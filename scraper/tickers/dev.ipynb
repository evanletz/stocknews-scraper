{
 "cells": [
  {
   "cell_type": "code",
   "execution_count": null,
   "source": [
    "import re\n",
    "import requests\n",
    "from bs4 import BeautifulSoup\n",
    "from dotenv import load_dotenv\n",
    "load_dotenv()"
   ],
   "outputs": [],
   "metadata": {}
  },
  {
   "cell_type": "code",
   "execution_count": null,
   "source": [
    "url = 'https://swingtradebot.com/equities?page=1'\n",
    "headers = {'User-Agent': os.getenv('USER_AGENT')}"
   ],
   "outputs": [],
   "metadata": {}
  },
  {
   "cell_type": "code",
   "execution_count": null,
   "source": [
    "res = requests.get(url, headers=headers)\n",
    "res.raise_for_status()"
   ],
   "outputs": [],
   "metadata": {}
  },
  {
   "cell_type": "code",
   "execution_count": null,
   "source": [
    "res.url"
   ],
   "outputs": [],
   "metadata": {}
  },
  {
   "cell_type": "code",
   "execution_count": null,
   "source": [
    "soup = BeautifulSoup(res.content, 'html.parser')"
   ],
   "outputs": [],
   "metadata": {}
  },
  {
   "cell_type": "code",
   "execution_count": null,
   "source": [
    "rows = soup.find_all('a', attrs={'href': re.compile(r'/equities/'), 'class': '', 'title': not ''})\n",
    "rows_trunc = rows[::2]\n",
    "rows_trunc"
   ],
   "outputs": [],
   "metadata": {}
  },
  {
   "cell_type": "code",
   "execution_count": null,
   "source": [
    "for row in rows_trunc:\n",
    "    ticker, name = row.text, row['title']\n",
    "    print(ticker, name)"
   ],
   "outputs": [],
   "metadata": {}
  },
  {
   "cell_type": "code",
   "execution_count": null,
   "source": [
    "def get_content():\n",
    "    page = 1\n",
    "    headers = {'User-Agent': os.getenv('USER_AGENT')}\n",
    "    content = []\n",
    "    while True:\n",
    "        url = f'https://swingtradebot.com/equities?page={page}'\n",
    "        res = requests.get(url, headers=headers)\n",
    "        if res.status_code != 200:\n",
    "            break\n",
    "        content.append(res)\n",
    "        page += 1\n",
    "    return content\n",
    "    "
   ],
   "outputs": [],
   "metadata": {}
  },
  {
   "cell_type": "code",
   "execution_count": null,
   "source": [
    "def parse_content(content):\n",
    "    tickers = []\n",
    "    for res in content:\n",
    "        soup = BeautifulSoup(res.content, 'html.parser')\n",
    "        rows = soup.find_all('a', attrs={'href': re.compile(r'/equities/'), 'class': '', 'title': not ''})\n",
    "        rows_trunc = rows[::2]\n",
    "        for row in rows_trunc:\n",
    "            ticker, name = row.text.strip(), row['title'].strip()\n",
    "            tickers.append((ticker, name))\n",
    "    return tickers"
   ],
   "outputs": [],
   "metadata": {}
  },
  {
   "cell_type": "code",
   "execution_count": null,
   "source": [
    "content = get_content()"
   ],
   "outputs": [],
   "metadata": {}
  },
  {
   "cell_type": "code",
   "execution_count": null,
   "source": [
    "tickers = parse_content(content)"
   ],
   "outputs": [],
   "metadata": {}
  },
  {
   "cell_type": "code",
   "execution_count": null,
   "source": [
    "len(tickers)"
   ],
   "outputs": [],
   "metadata": {}
  },
  {
   "cell_type": "code",
   "execution_count": null,
   "source": [],
   "outputs": [],
   "metadata": {}
  }
 ],
 "metadata": {
  "orig_nbformat": 4,
  "language_info": {
   "name": "python",
   "version": "3.9.4",
   "mimetype": "text/x-python",
   "codemirror_mode": {
    "name": "ipython",
    "version": 3
   },
   "pygments_lexer": "ipython3",
   "nbconvert_exporter": "python",
   "file_extension": ".py"
  },
  "kernelspec": {
   "name": "python3",
   "display_name": "Python 3.9.4 64-bit ('venv': venv)"
  },
  "interpreter": {
   "hash": "24757b023291f3e2fc59d4b78c964104f3a42756abf075dcfce65c9dceecaa62"
  }
 },
 "nbformat": 4,
 "nbformat_minor": 2
}